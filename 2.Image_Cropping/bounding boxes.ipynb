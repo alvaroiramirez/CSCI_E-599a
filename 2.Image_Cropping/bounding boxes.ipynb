{
 "cells": [
  {
   "cell_type": "markdown",
   "metadata": {},
   "source": [
    "This notebook cuts the bounding boxes delimited by the coordinates in the JSON file and store them as separate files. The code also creates a copy of the original image with the bounding boxes drawn on it."
   ]
  },
  {
   "cell_type": "markdown",
   "metadata": {},
   "source": [
    "### System Setup"
   ]
  },
  {
   "cell_type": "code",
   "execution_count": 1,
   "metadata": {},
   "outputs": [],
   "source": [
    "# Libraries\n",
    "\n",
    "import json\n",
    "import os\n",
    "import re\n",
    "from PIL import Image, ImageDraw"
   ]
  },
  {
   "cell_type": "code",
   "execution_count": 2,
   "metadata": {},
   "outputs": [],
   "source": [
    "# Variables\n",
    "\n",
    "# Base directory\n",
    "source_base_dir = \"source\"  # Base directory for source data\n",
    "\n",
    "# JSON file name\n",
    "json_file_name = \"_annotations.coco.json\""
   ]
  },
  {
   "cell_type": "markdown",
   "metadata": {},
   "source": [
    "### Prepare Data"
   ]
  },
  {
   "cell_type": "code",
   "execution_count": 3,
   "metadata": {},
   "outputs": [],
   "source": [
    "# Function to process a single directory\n",
    "def process_directory(source_dir):\n",
    "    json_path = os.path.join(source_dir, json_file_name)\n",
    "    output_json_path = json_path  # Save the updated JSON in the same directory\n",
    "\n",
    "    # Read the original COCO JSON file\n",
    "    with open(json_path, \"r\") as f:\n",
    "        coco_data = json.load(f)\n",
    "\n",
    "    # Get list of images in the source directory (long names)\n",
    "    image_files = {img for img in os.listdir(source_dir) if img.lower().endswith(('.jpg', '.jpeg', '.png'))}\n",
    "\n",
    "    # Create a mapping dictionary long names -> short names\n",
    "    name_mapping = {}\n",
    "\n",
    "    for img_name in image_files:\n",
    "        # Extract the main identifier from the short name (example: \"image_00003\")\n",
    "        base_name_match = re.match(r\"(image_\\d+)\", img_name)\n",
    "        if base_name_match:\n",
    "            base_name = base_name_match.group(1) + \".jpg\"  # Desired short format\n",
    "            name_mapping[img_name] = base_name\n",
    "\n",
    "    # Rename files in the source directory\n",
    "    for old_name, new_name in name_mapping.items():\n",
    "        old_path = os.path.join(source_dir, old_name)\n",
    "        new_path = os.path.join(source_dir, new_name)\n",
    "        os.rename(old_path, new_path)\n",
    "\n",
    "    # Filter images and update names in the JSON\n",
    "    filtered_images = []\n",
    "    for img in coco_data[\"images\"]:\n",
    "        if img[\"file_name\"] in name_mapping:\n",
    "            img[\"file_name\"] = name_mapping[img[\"file_name\"]]  # Replace with the short name\n",
    "            filtered_images.append(img)\n",
    "\n",
    "    # Get the IDs of the selected images\n",
    "    selected_image_ids = {img[\"id\"] for img in filtered_images}\n",
    "\n",
    "    # Filter annotations related to the selected images\n",
    "    filtered_annotations = [ann for ann in coco_data[\"annotations\"] if ann[\"image_id\"] in selected_image_ids]\n",
    "\n",
    "    # Create the new JSON with corrected names\n",
    "    filtered_coco = {\n",
    "        \"images\": filtered_images,\n",
    "        \"annotations\": filtered_annotations,\n",
    "        \"categories\": coco_data[\"categories\"]  # Keep original categories\n",
    "    }\n",
    "\n",
    "    # Save the new JSON in the same directory\n",
    "    with open(output_json_path, \"w\") as f:\n",
    "        json.dump(filtered_coco, f, indent=4)\n",
    "\n",
    "    print(f\"✅ Files renamed and new JSON saved at: {output_json_path}\")"
   ]
  },
  {
   "cell_type": "code",
   "execution_count": 4,
   "metadata": {},
   "outputs": [
    {
     "name": "stdout",
     "output_type": "stream",
     "text": [
      "✅ Files renamed and new JSON saved at: source/valid/_annotations.coco.json\n",
      "✅ Files renamed and new JSON saved at: source/test/_annotations.coco.json\n",
      "✅ Files renamed and new JSON saved at: source/train/_annotations.coco.json\n"
     ]
    }
   ],
   "source": [
    "# Process all subdirectories in the source base directory\n",
    "for subdir in os.listdir(source_base_dir):\n",
    "    source_dir = os.path.join(source_base_dir, subdir)\n",
    "    if os.path.isdir(source_dir):\n",
    "        process_directory(source_dir)"
   ]
  },
  {
   "cell_type": "markdown",
   "metadata": {},
   "source": [
    "### Process Images"
   ]
  },
  {
   "cell_type": "code",
   "execution_count": 5,
   "metadata": {},
   "outputs": [],
   "source": [
    "# Function to crop and save images\n",
    "def crop_and_save(image_path, bbox, output_path):\n",
    "    image = Image.open(image_path)\n",
    "    left, upper, width, height = bbox\n",
    "    right = left + width\n",
    "    lower = upper + height\n",
    "    cropped_image = image.crop((left, upper, right, lower))\n",
    "    cropped_image.save(output_path)\n",
    "\n",
    "# Function to draw bounding boxes on the image and save it\n",
    "def draw_bounding_boxes(image_path, bboxes, output_path):\n",
    "    image = Image.open(image_path)\n",
    "    draw = ImageDraw.Draw(image)\n",
    "    for bbox in bboxes:\n",
    "        left, upper, width, height = bbox\n",
    "        right = left + width\n",
    "        lower = upper + height\n",
    "        draw.rectangle([left, upper, right, lower], outline=\"red\", width=2)\n",
    "    image.save(output_path)\n",
    "\n",
    "# Function to process a single directory\n",
    "def process_directory(source_dir):\n",
    "    json_path = os.path.join(source_dir, json_file_name)\n",
    "    processed_dir = os.path.join(source_dir, 'processed')\n",
    "    os.makedirs(processed_dir, exist_ok=True)\n",
    "\n",
    "    # Load annotations from the JSON file\n",
    "    with open(json_path, 'r') as f:\n",
    "        data = json.load(f)\n",
    "\n",
    "    # Create a dictionary to map image_id to file_name\n",
    "    image_id_to_filename = {image['id']: image['file_name'] for image in data['images']}\n",
    "\n",
    "    # Dictionary to group bounding boxes by image_id\n",
    "    image_bboxes = {}\n",
    "\n",
    "    # Iterate over annotations and group bounding boxes by image_id\n",
    "    for annotation in data['annotations']:\n",
    "        image_id = annotation['image_id']\n",
    "        bbox = annotation['bbox']\n",
    "        if image_id not in image_bboxes:\n",
    "            image_bboxes[image_id] = []\n",
    "        image_bboxes[image_id].append(bbox)\n",
    "\n",
    "    # Iterate over images and process them\n",
    "    for image_id, bboxes in image_bboxes.items():\n",
    "        image_filename = image_id_to_filename[image_id]\n",
    "        image_path = os.path.join(source_dir, image_filename)\n",
    "        \n",
    "        # Save the image with bounding boxes drawn\n",
    "        output_path_with_boxes = os.path.join(processed_dir, f\"{os.path.splitext(image_filename)[0]}_with_boxes.jpg\")\n",
    "        draw_bounding_boxes(image_path, bboxes, output_path_with_boxes)\n",
    "        \n",
    "        # Crop and save each bounding box individually\n",
    "        for i, bbox in enumerate(bboxes):\n",
    "            output_path = os.path.join(processed_dir, f\"{os.path.splitext(image_filename)[0]}_crop_{i}.jpg\")\n",
    "            crop_and_save(image_path, bbox, output_path)\n",
    "        \n",
    "        print(f\"Processed {image_filename} with {len(bboxes)} bounding boxes\")"
   ]
  },
  {
   "cell_type": "code",
   "execution_count": 6,
   "metadata": {},
   "outputs": [
    {
     "name": "stdout",
     "output_type": "stream",
     "text": [
      "Processed image_00060.jpg with 13 bounding boxes\n",
      "Processed image_00086.jpg with 6 bounding boxes\n",
      "Processed image_00167.jpg with 4 bounding boxes\n",
      "Processed image_00221.jpg with 22 bounding boxes\n",
      "Processed image_00114.jpg with 7 bounding boxes\n",
      "Processed image_00058.jpg with 4 bounding boxes\n",
      "Processed image_00251.jpg with 6 bounding boxes\n",
      "Processed image_00191.jpg with 34 bounding boxes\n",
      "Processed image_00406.jpg with 19 bounding boxes\n",
      "Processed image_00216.jpg with 6 bounding boxes\n",
      "Processed image_00040.jpg with 3 bounding boxes\n",
      "Processed image_00139.jpg with 8 bounding boxes\n",
      "Processed image_00101.jpg with 4 bounding boxes\n",
      "Processed image_00275.jpg with 49 bounding boxes\n",
      "Processed image_00274.jpg with 3 bounding boxes\n",
      "Processed image_00170.jpg with 5 bounding boxes\n",
      "Processed image_00003.jpg with 83 bounding boxes\n",
      "Processed image_00250.jpg with 8 bounding boxes\n",
      "Processed image_00359.jpg with 3 bounding boxes\n",
      "Processed image_00397.jpg with 4 bounding boxes\n",
      "Processed image_00018.jpg with 1 bounding boxes\n",
      "Processed image_00369.jpg with 17 bounding boxes\n",
      "Processed image_00399.jpg with 2 bounding boxes\n",
      "Processed image_00054.jpg with 12 bounding boxes\n",
      "Processed image_00052.jpg with 9 bounding boxes\n"
     ]
    }
   ],
   "source": [
    "# Process all subdirectories in the source base directory\n",
    "for subdir in os.listdir(source_base_dir):\n",
    "    source_dir = os.path.join(source_base_dir, subdir)\n",
    "    if os.path.isdir(source_dir):\n",
    "        process_directory(source_dir)"
   ]
  }
 ],
 "metadata": {
  "kernelspec": {
   "display_name": ".venv",
   "language": "python",
   "name": "python3"
  },
  "language_info": {
   "codemirror_mode": {
    "name": "ipython",
    "version": 3
   },
   "file_extension": ".py",
   "mimetype": "text/x-python",
   "name": "python",
   "nbconvert_exporter": "python",
   "pygments_lexer": "ipython3",
   "version": "3.13.1"
  }
 },
 "nbformat": 4,
 "nbformat_minor": 2
}
