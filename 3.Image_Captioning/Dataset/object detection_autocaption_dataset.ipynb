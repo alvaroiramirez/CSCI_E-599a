{
 "cells": [
  {
   "cell_type": "markdown",
   "metadata": {},
   "source": [
    "### System Setup"
   ]
  },
  {
   "cell_type": "code",
   "execution_count": 14,
   "metadata": {},
   "outputs": [],
   "source": [
    "# Libraries\n",
    "\n",
    "import json\n",
    "import os\n",
    "import re\n",
    "from PIL import Image, ImageDraw"
   ]
  },
  {
   "cell_type": "code",
   "execution_count": 15,
   "metadata": {},
   "outputs": [],
   "source": [
    "# Variables\n",
    "\n",
    "# Base directory\n",
    "source_base_dir = \"../source\"  # Base directory for source data\n",
    "\n",
    "# JSON file name\n",
    "json_file_name = \"_annotations.coco.json\""
   ]
  },
  {
   "cell_type": "code",
   "execution_count": 16,
   "metadata": {},
   "outputs": [],
   "source": [
    "# Function to crop and save images\n",
    "# Function to crop and save images with size filtering\n",
    "def crop_and_save(image_path, bbox, output_path, min_width=100, min_height=100):\n",
    "    image = Image.open(image_path)\n",
    "    left, upper, width, height = bbox\n",
    "    \n",
    "    # Skip crops that are smaller than the minimum size\n",
    "    if width < min_width or height < min_height:\n",
    "        return False  # Return False to indicate the crop was skipped\n",
    "        \n",
    "    right = left + width\n",
    "    lower = upper + height\n",
    "    cropped_image = image.crop((left, upper, right, lower))\n",
    "    cropped_image.save(output_path)\n",
    "    return True  # Return True to indicate the crop was saved\n"
   ]
  },
  {
   "cell_type": "markdown",
   "metadata": {},
   "source": [
    "### Process Images"
   ]
  },
  {
   "cell_type": "code",
   "execution_count": 17,
   "metadata": {},
   "outputs": [],
   "source": [
    "import random\n",
    "import os\n",
    "\n",
    "# Function to process a single directory\n",
    "def process_directory(source_dir, sample_size=None):\n",
    "    json_path = os.path.join(source_dir, json_file_name)\n",
    "    processed_dir = os.path.join(source_dir, 'processed')\n",
    "    os.makedirs(processed_dir, exist_ok=True)\n",
    "\n",
    "    # Load annotations from the JSON file\n",
    "    with open(json_path, 'r') as f:\n",
    "        data = json.load(f)\n",
    "\n",
    "    # Create a dictionary to map image_id to file_name\n",
    "    image_id_to_filename = {image['id']: image['file_name'] for image in data['images']}\n",
    "\n",
    "    # Dictionary to group bounding boxes by image_id\n",
    "    image_bboxes = {}\n",
    "\n",
    "    # Iterate over annotations and group bounding boxes by image_id\n",
    "    for annotation in data['annotations']:\n",
    "        image_id = annotation['image_id']\n",
    "        bbox = annotation['bbox']\n",
    "        if image_id not in image_bboxes:\n",
    "            image_bboxes[image_id] = []\n",
    "        image_bboxes[image_id].append(bbox)\n",
    "    \n",
    "    # Select random sample if requested\n",
    "    if sample_size and len(image_bboxes) > sample_size:\n",
    "        # Get random sample of image IDs\n",
    "        sampled_image_ids = random.sample(list(image_bboxes.keys()), sample_size)\n",
    "        # Filter image_bboxes to only include sampled IDs\n",
    "        image_bboxes = {img_id: bboxes for img_id, bboxes in image_bboxes.items() \n",
    "                      if img_id in sampled_image_ids}\n",
    "\n",
    "    # Iterate over images and process them\n",
    "    total_crops = 0\n",
    "    total_saved = 0\n",
    "    \n",
    "    for image_id, bboxes in image_bboxes.items():\n",
    "        image_filename = image_id_to_filename[image_id]\n",
    "        image_path = os.path.join(source_dir, image_filename)\n",
    "        \n",
    "        # Don't save images with bounding boxes\n",
    "        # output_path_with_boxes = os.path.join(processed_dir, f\"{os.path.splitext(image_filename)[0]}_with_boxes.jpg\")\n",
    "        # draw_bounding_boxes(image_path, bboxes, output_path_with_boxes)\n",
    "        \n",
    "        # Crop and save each bounding box individually if they meet the size requirements\n",
    "        crops_saved = 0\n",
    "        for i, bbox in enumerate(bboxes):\n",
    "            output_path = os.path.join(processed_dir, f\"{os.path.splitext(image_filename)[0]}_crop_{i}.jpg\")\n",
    "            if crop_and_save(image_path, bbox, output_path, min_width=100, min_height=100):\n",
    "                crops_saved += 1\n",
    "        \n",
    "        total_crops += len(bboxes)\n",
    "        total_saved += crops_saved\n",
    "        print(f\"Processed {image_filename}: {crops_saved}/{len(bboxes)} crops saved (≥100x100px)\")\n",
    "    \n",
    "    print(f\"Directory {os.path.basename(source_dir)}: {total_saved}/{total_crops} crops saved (≥100x100px)\")\n"
   ]
  },
  {
   "cell_type": "code",
   "execution_count": null,
   "metadata": {},
   "outputs": [
    {
     "name": "stdout",
     "output_type": "stream",
     "text": [
      "Processed image_07038.jpg: 0/1 crops saved (≥100x100px)\n",
      "Processed image_06647.jpg: 0/6 crops saved (≥100x100px)\n",
      "Processed image_07561.jpg: 0/22 crops saved (≥100x100px)\n",
      "Processed image_07099.jpg: 2/2 crops saved (≥100x100px)\n",
      "Processed image_07001.jpg: 0/9 crops saved (≥100x100px)\n",
      "Processed image_07658.jpg: 0/28 crops saved (≥100x100px)\n",
      "Processed image_07944.jpg: 0/6 crops saved (≥100x100px)\n",
      "Processed image_06945.jpg: 0/1 crops saved (≥100x100px)\n",
      "Processed image_08014.jpg: 0/3 crops saved (≥100x100px)\n",
      "Processed image_07854.jpg: 1/153 crops saved (≥100x100px)\n",
      "Directory valid: 3/231 crops saved (≥100x100px)\n",
      "Processed image_06186.jpg: 0/6 crops saved (≥100x100px)\n",
      "Processed image_06033.jpg: 0/4 crops saved (≥100x100px)\n",
      "Processed image_06424.jpg: 0/55 crops saved (≥100x100px)\n",
      "Processed image_06124.jpg: 0/1 crops saved (≥100x100px)\n",
      "Processed image_06298.jpg: 0/25 crops saved (≥100x100px)\n",
      "Processed image_06358.jpg: 0/7 crops saved (≥100x100px)\n",
      "Processed image_06221.jpg: 0/14 crops saved (≥100x100px)\n",
      "Processed image_06588.jpg: 2/7 crops saved (≥100x100px)\n",
      "Processed image_06299.jpg: 1/1 crops saved (≥100x100px)\n",
      "Processed image_06152.jpg: 0/2 crops saved (≥100x100px)\n",
      "Directory test: 3/122 crops saved (≥100x100px)\n",
      "Processed image_02851.jpg: 0/10 crops saved (≥100x100px)\n",
      "Processed image_00684.jpg: 0/4 crops saved (≥100x100px)\n",
      "Processed image_03026.jpg: 0/3 crops saved (≥100x100px)\n",
      "Processed image_04086.jpg: 1/1 crops saved (≥100x100px)\n",
      "Processed image_00151.jpg: 0/2 crops saved (≥100x100px)\n",
      "Processed image_00589.jpg: 0/3 crops saved (≥100x100px)\n",
      "Processed image_01105.jpg: 0/1 crops saved (≥100x100px)\n",
      "Processed image_00859.jpg: 0/2 crops saved (≥100x100px)\n",
      "Processed image_02955.jpg: 0/36 crops saved (≥100x100px)\n",
      "Processed image_00829.jpg: 0/4 crops saved (≥100x100px)\n",
      "Directory train: 1/66 crops saved (≥100x100px)\n"
     ]
    }
   ],
   "source": [
    "# Main loop with random sampling\n",
    "for subdir in os.listdir(source_base_dir):\n",
    "    source_dir = os.path.join(source_base_dir, subdir)\n",
    "    if os.path.isdir(source_dir):\n",
    "        process_directory(source_dir, 500)  # Process up to 500 random images"
   ]
  }
 ],
 "metadata": {
  "kernelspec": {
   "display_name": "Python 3",
   "language": "python",
   "name": "python3"
  },
  "language_info": {
   "codemirror_mode": {
    "name": "ipython",
    "version": 3
   },
   "file_extension": ".py",
   "mimetype": "text/x-python",
   "name": "python",
   "nbconvert_exporter": "python",
   "pygments_lexer": "ipython3",
   "version": "3.11.10"
  }
 },
 "nbformat": 4,
 "nbformat_minor": 2
}
